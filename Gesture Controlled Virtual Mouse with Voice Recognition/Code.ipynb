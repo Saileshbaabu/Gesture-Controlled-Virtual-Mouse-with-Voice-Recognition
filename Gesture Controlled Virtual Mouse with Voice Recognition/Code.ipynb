{
 "cells": [
  {
   "cell_type": "code",
   "execution_count": 4,
   "id": "3ec0b33b",
   "metadata": {},
   "outputs": [
    {
     "name": "stdout",
     "output_type": "stream",
     "text": [
      "Collecting wxPython\n",
      "  Downloading wxPython-4.2.0-cp39-cp39-win_amd64.whl (18.0 MB)\n",
      "     ---------------------------------------- 18.0/18.0 MB 2.7 MB/s eta 0:00:00\n",
      "Requirement already satisfied: pillow in c:\\users\\sujeith kumar\\anaconda3\\lib\\site-packages (from wxPython) (8.4.0)\n",
      "Requirement already satisfied: six in c:\\users\\sujeith kumar\\anaconda3\\lib\\site-packages (from wxPython) (1.16.0)\n",
      "Requirement already satisfied: numpy in c:\\users\\sujeith kumar\\anaconda3\\lib\\site-packages (from wxPython) (1.21.6)\n",
      "Installing collected packages: wxPython\n",
      "Successfully installed wxPython-4.2.0\n",
      "Note: you may need to restart the kernel to use updated packages.\n"
     ]
    },
    {
     "name": "stderr",
     "output_type": "stream",
     "text": [
      "\n",
      "[notice] A new release of pip available: 22.2.2 -> 22.3\n",
      "[notice] To update, run: python.exe -m pip install --upgrade pip\n"
     ]
    }
   ],
   "source": [
    "pip install -U wxPython"
   ]
  },
  {
   "cell_type": "code",
   "execution_count": 2,
   "id": "d77d3ef9",
   "metadata": {},
   "outputs": [
    {
     "name": "stdout",
     "output_type": "stream",
     "text": [
      "Collecting opencv-python\n",
      "  Downloading opencv_python-4.6.0.66-cp36-abi3-win_amd64.whl (35.6 MB)\n",
      "     ---------------------------------------- 35.6/35.6 MB 4.0 MB/s eta 0:00:00\n",
      "Requirement already satisfied: numpy>=1.17.3 in c:\\users\\sujeith kumar\\anaconda3\\lib\\site-packages (from opencv-python) (1.21.6)\n",
      "Installing collected packages: opencv-python\n",
      "Successfully installed opencv-python-4.6.0.66\n",
      "Note: you may need to restart the kernel to use updated packages.\n"
     ]
    },
    {
     "name": "stderr",
     "output_type": "stream",
     "text": [
      "\n",
      "[notice] A new release of pip available: 22.2.2 -> 22.3\n",
      "[notice] To update, run: python.exe -m pip install --upgrade pip\n"
     ]
    }
   ],
   "source": [
    "pip install opencv-python"
   ]
  },
  {
   "cell_type": "code",
   "execution_count": 7,
   "id": "cd142a74",
   "metadata": {
    "scrolled": false
   },
   "outputs": [
    {
     "name": "stdout",
     "output_type": "stream",
     "text": [
      "Collecting pynput\n",
      "  Downloading pynput-1.7.6-py2.py3-none-any.whl (89 kB)\n",
      "     ---------------------------------------- 89.2/89.2 kB 1.7 MB/s eta 0:00:00\n",
      "Requirement already satisfied: six in c:\\users\\sujeith kumar\\anaconda3\\lib\\site-packages (from pynput) (1.16.0)\n",
      "Installing collected packages: pynput\n",
      "Successfully installed pynput-1.7.6\n",
      "Note: you may need to restart the kernel to use updated packages.\n"
     ]
    },
    {
     "name": "stderr",
     "output_type": "stream",
     "text": [
      "\n",
      "[notice] A new release of pip available: 22.2.2 -> 22.3\n",
      "[notice] To update, run: python.exe -m pip install --upgrade pip\n"
     ]
    }
   ],
   "source": [
    "pip install pynput"
   ]
  },
  {
   "cell_type": "code",
   "execution_count": null,
   "id": "d271412c",
   "metadata": {},
   "outputs": [],
   "source": [
    "import cv2\n",
    "import numpy as np\n",
    "import wx\n",
    "from pynput.mouse import Button,Controller\n",
    "\n",
    "mouse=Controller()\n",
    "app=wx.App(False)\n",
    "(sx,sy)=wx.GetDisplaySize()\n",
    "(capx,capy)=(480,360)\n",
    "\n",
    "cap=cv2.VideoCapture(0)\n",
    "cap.set(3,capx)\n",
    "cap.set(4,capy)\n",
    "lowerBound=np.array([0,80,50])\n",
    "upperBound=np.array([10,255,255])\n",
    "kernelOpen=np.ones((5,5))\n",
    "kernelClose=np.ones((20,20))\n",
    "\n",
    "mLocOld=np.array([0,0])\n",
    "mouseLoc=np.array([0,0])\n",
    "DampingFactor=2 # should be greater than 1\n",
    "\n",
    "pinchFlag=0\n",
    "openx,openy,openw,openh=(0,0,0,0)\n",
    "\n",
    "while True:\n",
    "    ret,img=cap.read()\n",
    "    #img=cv2.resize(img,(360,240))\n",
    "    # Convert BGR to HSV(Hue Saturation Value)\n",
    "    \n",
    "    imgHSV=cv2.cvtColor(img,cv2.COLOR_BGR2HSV)\n",
    "\n",
    "    #Create the mask\n",
    "    mask=cv2.inRange(imgHSV,lowerBound,upperBound)\n",
    "\n",
    "    # Morphology\n",
    "    maskOpen=cv2.morphologyEx(mask,cv2.MORPH_OPEN,kernelOpen)\n",
    "    maskClose=cv2.morphologyEx(maskOpen,cv2.MORPH_CLOSE,kernelClose)\n",
    "    maskFinal=maskClose\n",
    "    conts,h=cv2.findContours(maskFinal.copy(),cv2.RETR_EXTERNAL,cv2.CHAIN_APPROX_NONE)\n",
    "    \n",
    "    if(len(conts)==2):\n",
    "        if(pinchFlag==1):\n",
    "            pinchFlag=0\n",
    "            mouse.release(Button.left)\n",
    "        x1,y1,w1,h1=cv2.boundingRect(conts[0])\n",
    "        x2,y2,w2,h2=cv2.boundingRect(conts[1])\n",
    "        cv2.rectangle(img,(x1,y1),(x1+w1,y1+h1),(255,0,0),2)\n",
    "        cv2.rectangle(img,(x2,y2),(x2+w2,y2+h2),(255,0,0),2)\n",
    "        cx1= int(x1+w1/2)\n",
    "        cy1= int(y1+h1/2)\n",
    "        cx2= int(x2+w2/2)\n",
    "        cy2= int(y2+h2/2)\n",
    "        cx= int((cx1+cx2)/2)\n",
    "        cy= int((cy1+cy2)/2)\n",
    "        cv2.line(img,(cx1,cy1),(cx2,cy2),(255,0,0),2)\n",
    "        cv2.circle(img,(cx,cy),2,(0,0,255),2)\n",
    "        mouseLoc=mLocOld+((cx,cy)-mLocOld)/DampingFactor\n",
    "        mouse.position=(sx-int(mouseLoc[0]*sx/capx),int(mouseLoc[1]*sy/capy))\n",
    "        while mouse.position!=(sx-int(mouseLoc[0]*sx/capx),int(mouseLoc[1]*sy/capy)):\n",
    "            pass\n",
    "        mLocOld=mouseLoc\n",
    "        openx,openy,openw,openh=cv2.boundingRect(np.array([[[x1,y1],[x1+w1,y1+h1],[x2,y2],[x2+w2,y2+h2]]]))\n",
    "        #cv2.rectangle(img,(openx,openy),(openx+openw,openy+openh),(255,0,0),2)\n",
    "    elif(len(conts)==1):\n",
    "        x,y,w,h=cv2.boundingRect(conts[0])\n",
    "        if(pinchFlag==0):\n",
    "            if(abs((w*h-openw*openh)*100/(w*h))<30):\n",
    "                pinchFlag=1\n",
    "                mouse.press(Button.left)\n",
    "                openx,openy,openw,openh=(0,0,0,0)\n",
    "        else:\n",
    "            x,y,w,h=cv2.boundingRect(conts[0])\n",
    "            cv2.rectangle(img,(x,y),(x+w,y+h),(255,0,0),2)\n",
    "            cx=int(x+w/2)\n",
    "            cy=int(y+h/2)\n",
    "            cv2.circle(img,(cx,cy),int((w+h)/4),(0,0,255),2)\n",
    "            mouseLoc=mLocOld+((cx,cy)-mLocOld)/DampingFactor\n",
    "            mouse.position=(sx-int(mouseLoc[0]*sx/capx),int(mouseLoc[1]*sy/capy))\n",
    "            while mouse.position!=(sx-int(mouseLoc[0]*sx/capx),int(mouseLoc[1]*sy/capy)):\n",
    "                pass\n",
    "            mLocOld=mouseLoc\n",
    "        \n",
    "    cv2.imshow('Window',img)\n",
    "    \n",
    "    if cv2.waitKey(27)==ord('q'):\n",
    "        break\n",
    "cap.release()\n",
    "cv2.destroyAllWin\n",
    "dows()"
   ]
  },
  {
   "cell_type": "code",
   "execution_count": null,
   "id": "0a6e748a",
   "metadata": {},
   "outputs": [],
   "source": []
  }
 ],
 "metadata": {
  "kernelspec": {
   "display_name": "Python 3 (ipykernel)",
   "language": "python",
   "name": "python3"
  },
  "language_info": {
   "codemirror_mode": {
    "name": "ipython",
    "version": 3
   },
   "file_extension": ".py",
   "mimetype": "text/x-python",
   "name": "python",
   "nbconvert_exporter": "python",
   "pygments_lexer": "ipython3",
   "version": "3.9.7"
  }
 },
 "nbformat": 4,
 "nbformat_minor": 5
}
